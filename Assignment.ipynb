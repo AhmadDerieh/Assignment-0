{
 "cells": [
  {
   "cell_type": "markdown",
   "id": "91abae81",
   "metadata": {},
   "source": [
    "# Name: Ahmad Derieh\n",
    "# Student Number:12028876"
   ]
  },
  {
   "cell_type": "code",
   "execution_count": 29,
   "id": "56eec4e0",
   "metadata": {},
   "outputs": [],
   "source": [
    "# x = 15\n",
    "# using nested if statements\n",
    "if x >= 10:\n",
    "    if x <= 20:\n",
    "        print('x is between 10 and 20')  \n",
    "if x>=10 and x<=20: \n",
    "            print('x is between 10 and 20')    "
   ]
  },
  {
   "cell_type": "code",
   "execution_count": 20,
   "id": "d275a3c6",
   "metadata": {},
   "outputs": [
    {
     "name": "stdout",
     "output_type": "stream",
     "text": [
      "7\n",
      "7\n",
      "[8, 4, 3, 1]\n",
      "[9, 0]\n",
      "3\n"
     ]
    }
   ],
   "source": [
    "myList = [7, 6, 2, 5, 8, 4, 3, 1, 9, 0]\n",
    "\n",
    "print(myList[0]) # Example given\n",
    "# [!] write code here for each requested output [!] \n",
    "print(myList[0])\n",
    "print(myList[4:8])\n",
    "print(myList[-2:])\n",
    "print(myList[-4])"
   ]
  },
  {
   "cell_type": "code",
   "execution_count": 21,
   "id": "cc9f07e7",
   "metadata": {},
   "outputs": [
    {
     "name": "stdout",
     "output_type": "stream",
     "text": [
      "7\n",
      "6\n",
      "2\n",
      "5\n",
      "8\n",
      "7\n",
      "6\n",
      "2\n",
      "5\n",
      "8\n"
     ]
    }
   ],
   "source": [
    "myList = [7, 6, 2, 5, 8]\n",
    "# [!] write code here with a for loop [!] \n",
    "# [!] write code here with a while loop [!] \n",
    "myList3 = [7, 6, 2, 5, 8]\n",
    "# [!] write code here with a for loop [!] \n",
    "for i in myList3:\n",
    "    print(i)\n",
    "# [!] write code here with a while loop [!] \n",
    "j=0\n",
    "while j<len(myList3):\n",
    "    print(myList3[j])\n",
    "    j+=1"
   ]
  },
  {
   "cell_type": "code",
   "execution_count": 22,
   "id": "70d17f8a",
   "metadata": {},
   "outputs": [
    {
     "name": "stdout",
     "output_type": "stream",
     "text": [
      "6\n",
      "8\n",
      "3\n",
      "1\n",
      "5\n"
     ]
    }
   ],
   "source": [
    "myList = [5, 1, 3, 8, 6]\n",
    "# [!] write code here with a for loop to print list elements in reverse order [!] \n",
    "\n",
    "myList2=[5,1,3,8,6]\n",
    "for i in myList2[::-1]:\n",
    "    print(i)"
   ]
  },
  {
   "cell_type": "code",
   "execution_count": 23,
   "id": "8f523746",
   "metadata": {},
   "outputs": [
    {
     "name": "stdout",
     "output_type": "stream",
     "text": [
      "1024\n"
     ]
    }
   ],
   "source": [
    "def raiseToPower(value, power):\n",
    "    return value ** power\n",
    "x = 2\n",
    "p = 10\n",
    "# [!] write code here [!]\n",
    "print(raiseToPower(x,p))"
   ]
  },
  {
   "cell_type": "code",
   "execution_count": 24,
   "id": "ce6d7692",
   "metadata": {},
   "outputs": [
    {
     "name": "stdout",
     "output_type": "stream",
     "text": [
      "False\n",
      "True\n",
      "True\n",
      "False\n",
      "True\n",
      "False\n"
     ]
    }
   ],
   "source": [
    "def isOne(x):\n",
    "    one = False\n",
    "    if x == 1:\n",
    "        one = True\n",
    "    return one\n",
    "\n",
    "myList = [0, 1, 1, 0, 1, 0]\n",
    "# [!] write code here [!] \n",
    "for i in myList:\n",
    "    print(isOne(i))"
   ]
  },
  {
   "cell_type": "code",
   "execution_count": 25,
   "id": "af04e454",
   "metadata": {},
   "outputs": [
    {
     "name": "stdout",
     "output_type": "stream",
     "text": [
      "False\n",
      "True\n"
     ]
    }
   ],
   "source": [
    "def isEven(x):\n",
    "    if x%2==0:\n",
    "        return True\n",
    "    else:\n",
    "        return False\n",
    "print(isEven(5))\n",
    "print(isEven(8))"
   ]
  },
  {
   "cell_type": "code",
   "execution_count": 26,
   "id": "36d20cef",
   "metadata": {},
   "outputs": [
    {
     "name": "stdout",
     "output_type": "stream",
     "text": [
      "[0, 1, 2, 3, 4, 5, 6, 7, 8, 9]\n"
     ]
    }
   ],
   "source": [
    "def makeList(n):\n",
    "    resultingList = [0] * n # this will create a list containg n zeros\n",
    "    for i in range(n):\n",
    "        resultingList[i]+=i\n",
    "    return resultingList\n",
    "\n",
    "print(makeList(10))"
   ]
  },
  {
   "cell_type": "code",
   "execution_count": 27,
   "id": "d518a9fb",
   "metadata": {},
   "outputs": [
    {
     "name": "stdout",
     "output_type": "stream",
     "text": [
      "10\n",
      "9\n",
      "8\n",
      "7\n",
      "6\n",
      "5\n",
      "4\n",
      "3\n",
      "2\n",
      "1\n",
      "0\n"
     ]
    }
   ],
   "source": [
    "def myRecursiveFunction(x):\n",
    "    print(x)\n",
    "    if x > 0:\n",
    "        myRecursiveFunction(x-1)\n",
    "\n",
    "myRecursiveFunction(10)"
   ]
  }
 ],
 "metadata": {
  "kernelspec": {
   "display_name": "Python 3 (ipykernel)",
   "language": "python",
   "name": "python3"
  },
  "language_info": {
   "codemirror_mode": {
    "name": "ipython",
    "version": 3
   },
   "file_extension": ".py",
   "mimetype": "text/x-python",
   "name": "python",
   "nbconvert_exporter": "python",
   "pygments_lexer": "ipython3",
   "version": "3.9.7"
  }
 },
 "nbformat": 4,
 "nbformat_minor": 5
}
